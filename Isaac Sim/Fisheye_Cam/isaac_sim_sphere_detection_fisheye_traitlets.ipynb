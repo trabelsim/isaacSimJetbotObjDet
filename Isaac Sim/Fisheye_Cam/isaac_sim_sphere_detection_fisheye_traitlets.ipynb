{
 "cells": [
  {
   "cell_type": "code",
   "execution_count": 1,
   "id": "33493bb8",
   "metadata": {},
   "outputs": [
    {
     "name": "stdout",
     "output_type": "stream",
     "text": [
      "Passing the following args to the base kit application:  ['-f', '/home/student/.local/share/jupyter/runtime/kernel-d1d83f89-03ea-4320-adac-5429fe977a43.json']\n",
      "[Warning] [omni.kit.app.plugin] No crash reporter present, dumps uploading isn't available.\n",
      "[Info] [carb] Logging to file: /home/student/.local/share/ov/pkg/isaac_sim-2021.2.1/kit/logs/Kit/Isaac-Sim/2021.2/kit_20220523_203655.log\n",
      "2022-05-23 18:36:55 [9ms] [Warning] [omni.ext.plugin] [ext: omni.jetbot.opencv] Extensions config 'extension.toml' doesn't exist anywhere in '/home/student/.local/share/ov/pkg/isaac_sim-2021.2.1/exts/omni.jetbot.opencv/**'\n",
      "[0.044s] [ext: omni.kit.pipapi-0.0.0] startup\n",
      "[0.054s] [ext: omni.kit.pip_archive-0.0.0] startup\n",
      "[0.058s] [ext: omni.isaac.pip_archive-0.1.0] startup\n",
      "[0.219s] [ext: omni.usd.config-1.0.0] startup\n",
      "[0.221s] [ext: omni.usd.libs-1.0.0] startup\n",
      "[0.361s] [ext: omni.stats-0.0.0] startup\n",
      "[0.364s] [ext: omni.gpu_foundation-0.0.0] startup\n",
      "[0.369s] [ext: omni.kit.async_engine-0.0.0] startup\n",
      "[0.370s] [ext: omni.kit.loop-isaac-0.1.0] startup\n",
      "[0.371s] [ext: omni.assets.plugins-0.0.0] startup\n",
      "[0.371s] [ext: omni.appwindow-1.0.0] startup\n"
     ]
    },
    {
     "name": "stderr",
     "output_type": "stream",
     "text": [
      "2022-05-23 18:36:56 [365ms] [Error] [carb.windowing-glfw.plugin] GLFW initialization failed.\n",
      "2022-05-23 18:36:56 [365ms] [Error] [carb] Failed to startup plugin carb.windowing-glfw.plugin (interfaces: [carb::windowing::IGLContext v1.0],[carb::windowing::IWindowing v1.2]) (impl: carb.windowing-glfw.plugin)\n"
     ]
    },
    {
     "name": "stdout",
     "output_type": "stream",
     "text": [
      "[0.375s] [ext: omni.client-0.1.0] startup\n",
      "[0.381s] [ext: omni.kit.renderer.core-0.0.0] startup\n",
      "\n",
      "|---------------------------------------------------------------------------------------------|\n",
      "| Driver Version: 470.129     | Graphics API: Vulkan\n",
      "|=============================================================================================|\n",
      "| GPU | Name                             | Active | LDA | GPU Memory | Vendor-ID | LUID       |\n",
      "|     |                                  |        |     |            | Device-ID | UUID       |\n",
      "|---------------------------------------------------------------------------------------------|\n",
      "| 0   | NVIDIA GeForce RTX 3070          | Yes: 0 |     | 8438    MB | 10de      | 0          |\n",
      "|     |                                  |        |     |            | 2488      | 68a19bb3.. |\n",
      "|=============================================================================================|\n",
      "| OS: Linux colima, Version: 5.4.0-110-generic\n",
      "| Processor: 11th Gen Intel(R) Core(TM) i9-11900K @ 3.50GHz | Cores: Unknown | Logical: 16\n",
      "|---------------------------------------------------------------------------------------------|\n",
      "| Total Memory (MB): 64146 | Free Memory: 57178\n",
      "| Total Page/Swap (MB): 61034 | Free Page/Swap: 61034\n",
      "|---------------------------------------------------------------------------------------------|\n",
      "2022-05-23 18:36:56 [734ms] [Warning] [gpu.foundation.plugin] Different GPUs have different availalbe VRAM. The texture streaming system will be limited to the lower VRAM number\n"
     ]
    },
    {
     "name": "stderr",
     "output_type": "stream",
     "text": [
      "2022-05-23 18:36:56 [574ms] [Error] [carb.windowing-glfw.plugin] GLFW initialization failed.\n",
      "2022-05-23 18:36:56 [574ms] [Error] [carb] Failed to startup plugin carb.windowing-glfw.plugin (interfaces: [carb::windowing::IGLContext v1.0],[carb::windowing::IWindowing v1.2]) (impl: carb.windowing-glfw.plugin)\n",
      "2022-05-23 18:36:56 [743ms] [Error] [carb.windowing-glfw.plugin] GLFW initialization failed.\n",
      "2022-05-23 18:36:56 [743ms] [Error] [carb] Failed to startup plugin carb.windowing-glfw.plugin (interfaces: [carb::windowing::IGLContext v1.0],[carb::windowing::IWindowing v1.2]) (impl: carb.windowing-glfw.plugin)\n",
      "2022-05-23 18:36:56 [744ms] [Error] [carb.windowing-glfw.plugin] GLFW initialization failed.\n",
      "2022-05-23 18:36:56 [744ms] [Error] [carb] Failed to startup plugin carb.windowing-glfw.plugin (interfaces: [carb::windowing::IGLContext v1.0],[carb::windowing::IWindowing v1.2]) (impl: carb.windowing-glfw.plugin)\n",
      "2022-05-23 18:36:56 [744ms] [Error] [carb.windowing-glfw.plugin] GLFW initialization failed.\n",
      "2022-05-23 18:36:56 [744ms] [Error] [carb] Failed to startup plugin carb.windowing-glfw.plugin (interfaces: [carb::windowing::IGLContext v1.0],[carb::windowing::IWindowing v1.2]) (impl: carb.windowing-glfw.plugin)\n",
      "2022-05-23 18:36:56 [745ms] [Error] [carb.windowing-glfw.plugin] GLFW initialization failed.\n",
      "2022-05-23 18:36:56 [745ms] [Error] [carb] Failed to startup plugin carb.windowing-glfw.plugin (interfaces: [carb::windowing::IGLContext v1.0],[carb::windowing::IWindowing v1.2]) (impl: carb.windowing-glfw.plugin)\n",
      "2022-05-23 18:36:57 [1,618ms] [Error] [rtx.postprocessing.plugin] createDLSSContext error: unable to initialize context. Optional DLSS feature is disabled.\n"
     ]
    },
    {
     "name": "stdout",
     "output_type": "stream",
     "text": [
      "[0.851s] [ext: omni.kit.test-0.0.0] startup\n",
      "[0.930s] [ext: omni.ui-2.5.3] startup\n",
      "[0.941s] [ext: omni.kit.mainwindow-0.0.0] startup\n",
      "[0.943s] [ext: omni.kit.uiapp-0.0.0] startup\n",
      "[0.944s] [ext: omni.usd.schema.physics-1.0.0] startup\n",
      "2022-05-23 18:36:56 [945ms] [Warning] [omni.ext.impl._internal] There is already a module 'pxr.UsdPhysics' in '/home/student/.local/share/ov/pkg/isaac_sim-2021.2.1/kit/extscore/omni.usd.schema.physics/pxr/UsdPhysics/__init__.py'. Can't import another module with the same name in public space from '/home/student/.local/share/ov/pkg/isaac_sim-2021.2.1/kit/extsPhysics/omni.usd.schema.physics'.\n",
      "2022-05-23 18:36:56 [949ms] [Warning] [omni.ext.impl._internal] There is already a module 'usd.schema.physics' in '/home/student/.local/share/ov/pkg/isaac_sim-2021.2.1/kit/extscore/omni.usd.schema.physics/usd/schema/physics/__init__.py'. Can't import another module with the same name in public space from '/home/student/.local/share/ov/pkg/isaac_sim-2021.2.1/kit/extsPhysics/omni.usd.schema.physics'.\n",
      "[0.956s] [ext: omni.usd.schema.isaac-0.1.1] startup\n",
      "[0.984s] [ext: omni.usd.schema.anim-0.0.0] startup\n",
      "[1.005s] [ext: omni.usd.schema.physx-0.0.0] startup\n",
      "[1.026s] [ext: omni.usd.schema.audio-0.0.0] startup\n",
      "[1.031s] [ext: omni.usd.schema.semantics-0.0.0] startup\n",
      "[1.036s] [ext: omni.kit.commands-0.0.0] startup\n",
      "[1.045s] [ext: carb.audio-0.1.0] startup\n",
      "[1.047s] [ext: omni.timeline-1.0.2] startup\n",
      "[1.049s] [ext: omni.hydra.scene_delegate-0.1.0] startup\n",
      "[1.055s] [ext: omni.usd-1.4.5] startup\n",
      "[1.073s] [ext: omni.kit.asset_converter-1.1.43] startup\n",
      "[1.092s] [ext: omni.kit.widget.graph-1.1.4] startup\n",
      "[1.097s] [ext: omni.kvdb-0.0.0] startup\n",
      "[1.105s] [ext: omni.usdphysics-1.3.14] startup\n",
      "[1.106s] [ext: omni.convexdecomposition-1.3.14] startup\n",
      "[1.114s] [ext: omni.kit.window.extensions-1.0.2] startup\n",
      "[1.127s] [ext: omni.localcache-0.0.0] startup\n",
      "[1.134s] [ext: omni.kit.menu.utils-1.0.2] startup\n",
      "[1.140s] [ext: omni.physx-1.3.14-5.1] startup\n",
      "[1.164s] [ext: omni.kit.menu.create-1.0.1] startup\n",
      "[1.169s] [ext: omni.kit.window.drop_support-1.0.0] startup\n",
      "[1.169s] [ext: omni.services.facilities.base-1.0.0] startup\n",
      "[1.172s] [ext: omni.kit.window.popup_dialog-2.0.4] startup\n",
      "[1.173s] [ext: omni.kit.material.library-1.2.3] startup\n",
      "[1.234s] [ext: omni.kit.widget.versioning-1.3.4] startup\n",
      "[1.236s] [ext: omni.kit.context_menu-1.3.2] startup\n",
      "[1.311s] [ext: omni.renderer-rtx-0.0.0] startup\n",
      "[1.312s] [ext: omni.hydra.rtx-0.1.0] startup\n",
      "[1.317s] [ext: omni.kit.numpy.common-0.1.0] startup\n",
      "[1.391s] [ext: omni.kit.window.viewport-0.0.0] startup\n",
      "2022-05-23 18:36:57 [1,618ms] [Warning] [carb.graphics-vulkan.plugin] NGX does not support feature SuperSampling.Available.\n",
      "2022-05-23 18:36:57 [1,618ms] [Warning] [rtx.postprocessing.plugin] NGX does not have DLSS feature. Check nvngx_dlss.dll is available.\n",
      "[2.127s] [ext: omni.services.core-1.1.1] startup\n",
      "[2.220s] [ext: omni.services.transport.client.base-1.1.0] startup\n",
      "[2.221s] [ext: omni.services.transport.server.base-1.0.0] startup\n",
      "[2.222s] [ext: omni.services.client-0.2.3] startup\n",
      "[2.296s] [ext: omni.services.transport.server.http-1.0.0] startup\n",
      "[2.488s] [ext: omni.kit.search_core-1.0.0] startup\n",
      "[2.489s] [ext: omni.services.transport.client.http_async-1.0.0] startup\n",
      "[2.849s] [ext: omni.kit.agent-0.1.0] startup\n",
      "[2.850s] [ext: omni.kit.widget.filebrowser-2.2.20] startup\n",
      "[2.855s] [ext: omni.kit.widget.path_field-2.0.3] startup\n",
      "[2.856s] [ext: omni.kit.thumbnails.images-0.1.0] startup\n",
      "[2.859s] [ext: omni.kit.notification_manager-1.0.0] startup\n",
      "[2.861s] [ext: omni.kit.widget.browser_bar-2.0.2] startup\n",
      "[2.861s] [ext: omni.kit.window.property-1.6.2] startup\n",
      "[2.863s] [ext: omni.kit.window.filepicker-2.4.12] startup\n",
      "[3.011s] [ext: omni.isaac.dynamic_control-0.1.8] startup\n",
      "[3.019s] [ext: omni.isaac.lula-0.1.0] startup\n",
      "[3.026s] [ext: omni.isaac.ui-0.1.2] startup\n",
      "[3.028s] [ext: omni.isaac.core-0.1.12] startup\n",
      "[3.073s] [ext: omni.isaac.surface_gripper-0.1.0] startup\n",
      "[3.078s] [ext: omni.kit.stage_templates-1.0.6] startup\n",
      "[3.081s] [ext: omni.isaac.motion_planning-0.1.7] startup\n",
      "[3.087s] [ext: omni.isaac.kit-0.1.2] startup\n",
      "[3.087s] [ext: omni.isaac.motion_generation-0.1.2] startup\n",
      "[3.091s] [ext: omni.isaac.kaya-0.0.0] startup\n",
      "[3.092s] [ext: omni.isaac.universal_robots-0.1.1] startup\n",
      "[3.093s] [ext: omni.kit.window.file-1.3.5] startup\n",
      "[3.195s] [ext: omni.kit.widget.settings-1.0.0] startup\n",
      "[3.196s] [ext: omni.kit.widget.stage-2.6.8] startup\n",
      "[3.199s] [ext: omni.kit.window.content_browser-2.4.10] startup\n",
      "[3.308s] [ext: omni.kit.window.preferences-1.1.5] startup\n",
      "[3.335s] [ext: omni.kit.usd_undo-0.1.0] startup\n",
      "[3.337s] [ext: omni.kit.widget.stage_icons-1.0.2] startup\n",
      "[3.338s] [ext: omni.kit.property.usd-3.11.4] startup\n",
      "[3.363s] [ext: omni.debugdraw-0.1.0] startup\n",
      "[3.366s] [ext: omni.physx.commands-1.3.14-5.1] startup\n",
      "[3.374s] [ext: omni.kit.window.stage-2.3.4] startup\n",
      "[3.380s] [ext: omni.physx.ui-1.3.14-5.1] startup\n",
      "[3.397s] [ext: omni.kit.property.material-1.7.2] startup\n",
      "[3.402s] [ext: omni.kit.window.toolbar-1.2.1] startup\n",
      "[3.407s] [ext: omni.physx.demos-1.3.14-5.1] startup\n",
      "[3.414s] [ext: omni.kit.property.physx-0.1.0] startup\n",
      "[3.459s] [ext: omni.physx.tests-1.3.14-5.1] startup\n",
      "[3.574s] [ext: omni.physx.vehicle-1.3.14-5.1] startup\n",
      "[3.589s] [ext: omni.physx.cct-1.3.14-5.1] startup\n",
      "[3.601s] [ext: omni.isaac.franka-0.0.0] startup\n",
      "[3.604s] [ext: omni.physx.bundle-1.3.14-5.1] startup\n",
      "[3.604s] [ext: omni.isaac.utils-0.1.10] startup\n",
      "[3.606s] [ext: omni.kit.window.status_bar-0.1.0] startup\n",
      "[3.607s] [ext: omni.kit.widget.layers-1.5.12] startup\n",
      "[3.622s] [ext: omni.kit.property.skel-1.0.0] startup\n",
      "[3.623s] [ext: omni.kit.widget.prompt-1.0.0] startup\n",
      "[3.623s] [ext: omni.kit.property.layer-1.1.2] startup\n",
      "[3.625s] [ext: omni.kit.property.camera-1.0.3] startup\n",
      "[3.625s] [ext: omni.kit.property.transform-1.0.2] startup\n",
      "[3.627s] [ext: omni.kit.property.geometry-1.2.0] startup\n",
      "[3.629s] [ext: omni.kit.property.light-1.0.4] startup\n",
      "[3.630s] [ext: omni.kit.property.audio-1.0.5] startup\n",
      "[3.631s] [ext: omni.isaac.contact_sensor-0.1.0] startup\n",
      "[3.634s] [ext: omni.kit.window.script_editor-1.5.0] startup\n",
      "[3.635s] [ext: omni.kit.property.bundle-1.2.4] startup\n",
      "[3.636s] [ext: omni.rtx.window.settings-0.6.0] startup\n",
      "[3.641s] [ext: omni.syntheticdata-0.1.6] startup\n",
      "[3.808s] [ext: omni.isaac.debug_draw-0.1.1] startup\n",
      "[3.812s] [ext: omni.kit.profiler.window-1.3.3] startup\n",
      "[3.823s] [ext: omni.rtx.settings.core-0.5.4] startup\n",
      "[3.828s] [ext: omni.isaac.range_sensor-0.1.5] startup\n",
      "[3.848s] [ext: omni.isaac.python_app-0.0.0] startup\n",
      "[3.849s] [ext: omni.kit.widget.live-0.1.0] startup\n",
      "[3.851s] [ext: omni.kit.window.console-0.1.0] startup\n",
      "[3.853s] [ext: omni.isaac.dofbot-0.1.1] startup\n",
      "[3.854s] [ext: omni.isaac.synthetic_utils-0.1.5] startup\n",
      "[3.860s] [ext: omni.isaac.urdf-0.1.13] startup\n",
      "[3.880s] [ext: omni.kit.primitive.mesh-1.0.0] startup\n",
      "[3.883s] [ext: omni.isaac.occupancy_map-0.1.1] startup\n",
      "[3.902s] [ext: omni.isaac.dr-0.1.8] stSimulation App Starting\n",
      "Simulation App Startup Complete\n"
     ]
    }
   ],
   "source": [
    "import getpass\n",
    "user = getpass.getuser()\n",
    "from omni.isaac.kit import SimulationApp\n",
    "# Set the path below to your desired nucleus server\n",
    "CONFIG = {\"renderer\":\"RealTime\", \"headless\":True, \"width\":1280, \"height\":720, \"sync_loads\": True}\n",
    "kit = simulation_app = SimulationApp(launch_config=CONFIG)"
   ]
  },
  {
   "cell_type": "code",
   "execution_count": 2,
   "id": "01f4d7e6",
   "metadata": {},
   "outputs": [],
   "source": [
    "import carb\n",
    "import omni.ext\n",
    "import omni.appwindow\n",
    "import gc\n",
    "import numpy as np\n",
    "from omni.isaac.core.utils.viewports import set_camera_view\n",
    "from omni.isaac.core.utils.nucleus import find_nucleus_server\n",
    "import ipywidgets.widgets as widgets"
   ]
  },
  {
   "cell_type": "code",
   "execution_count": 3,
   "id": "6effdc88",
   "metadata": {},
   "outputs": [],
   "source": [
    "from omni.isaac.synthetic_utils import SyntheticDataHelper\n",
    "viewport = omni.kit.viewport.get_viewport_interface()\n",
    "sd_helper = SyntheticDataHelper()"
   ]
  },
  {
   "cell_type": "code",
   "execution_count": 4,
   "id": "7f719971",
   "metadata": {},
   "outputs": [],
   "source": [
    "stage = simulation_app.context.get_stage()"
   ]
  },
  {
   "cell_type": "code",
   "execution_count": 5,
   "id": "cf2475b1",
   "metadata": {},
   "outputs": [],
   "source": [
    "result, nucleus_server = find_nucleus_server()\n",
    "if result is False:\n",
    "    print(\"Could not find nucleus server\")\n",
    "if result:\n",
    "    #Load the scenario to test the algorithm on\n",
    "    scenario_path = \"omniverse://localhost/Projects/trabelsi/in_house/testing/sphere_in_house.usd\"\n",
    "    stage= omni.usd.get_context().open_stage(scenario_path)\n",
    "#Wait two frames so that the stage starts to load\n",
    "kit.update()\n",
    "kit.update()"
   ]
  },
  {
   "cell_type": "code",
   "execution_count": 6,
   "id": "e2d7b909",
   "metadata": {},
   "outputs": [
    {
     "name": "stdout",
     "output_type": "stream",
     "text": [
      "Loading complete\n"
     ]
    }
   ],
   "source": [
    "from omni.isaac.core.utils.stage import is_stage_loading\n",
    "while is_stage_loading():\n",
    "    kit.update()\n",
    "print(\"Loading complete\")"
   ]
  },
  {
   "cell_type": "code",
   "execution_count": 7,
   "id": "88fd63b2",
   "metadata": {},
   "outputs": [],
   "source": [
    "import omni\n",
    "omni.timeline.get_timeline_interface().play()\n",
    "\n",
    "simulation_app.update()"
   ]
  },
  {
   "cell_type": "code",
   "execution_count": 8,
   "id": "9f8700f2",
   "metadata": {},
   "outputs": [
    {
     "name": "stdout",
     "output_type": "stream",
     "text": [
      "Found articulation for path: /Jetbot\n",
      "Articulation handle 2216203124737 \n",
      "--- Hierarchy\n",
      "\n",
      "--- Body states:\n",
      "[(((-0.25982824, -73.58551 , -44.658546), (0.505594  ,  0.49841058,  0.49434444, -0.50158274)), (( 0.00045364,  0.00032751, 0.00316193), (-0.00010901, -0.0002351 , -0.0001049 )))\n",
      " ((( 4.40964   , -73.585526, -44.7259  ), (0.70953715, -0.00508246, -0.00511541, -0.70463115)), ((-0.00021415, -0.00011501, 0.00484524), ( 0.0002888 , -0.0002351 , -0.00011064)))\n",
      " (((-4.929395  , -73.58549 , -44.591198), (0.00508072,  0.70973825,  0.7044287 , -0.00511655)), ((-0.00025246,  0.00112081, 0.00211727), (-0.0002971 , -0.00023493, -0.00010219)))]\n",
      "\n",
      "--- DOF states:\n",
      "[(0.00113932,  0.00039786, 2.1394389e-06)\n",
      " (0.00056847, -0.00018811, 2.2074962e-06)]\n",
      "\n",
      "--- DOF properties:\n",
      "[(1, False, 0., 0.0000000e+00, 0, 12.56, 3.4028235e+38, 0., 10000.)\n",
      " (1, False, 0., 3.6279792e-25, 0, 12.56, 3.4028235e+38, 0., 10000.)]\n",
      "\n"
     ]
    }
   ],
   "source": [
    "import matplotlib.pyplot as plt\n",
    "import cv2\n",
    "from omni.isaac.dynamic_control import _dynamic_control\n",
    "dc = _dynamic_control.acquire_dynamic_control_interface()\n",
    "from IPython.display import clear_output\n",
    "\n",
    "#Define the path of the object to control\n",
    "ARTICULATION_PATH = \"/Jetbot\"\n",
    "\n",
    "articulation = dc.get_articulation(ARTICULATION_PATH)\n",
    "if articulation == _dynamic_control.INVALID_HANDLE:\n",
    "    print(str(ARTICULATION_PATH) + \" is not an articulation\" )\n",
    "else:\n",
    "    print(\"Found articulation for path: \" + str(ARTICULATION_PATH) )\n",
    "    root = dc.get_articulation_root_body(articulation)\n",
    "    print(str(\"Articulation handle %d \\n\" % articulation) + str(\"--- Hierarchy\\n\"))\n",
    "    \n",
    "    body_states = dc.get_articulation_body_states(articulation, _dynamic_control.STATE_ALL)\n",
    "    print(str(\"--- Body states:\\n\") + str(body_states) + \"\\n\")\n",
    "    \n",
    "    dof_states = dc.get_articulation_dof_states(articulation, _dynamic_control.STATE_ALL)\n",
    "    print(str(\"--- DOF states:\\n\") + str(dof_states) + \"\\n\")\n",
    "    \n",
    "    dof_props = dc.get_articulation_dof_properties(articulation)\n",
    "    print(str(\"--- DOF properties:\\n\") + str(dof_props) + \"\\n\")\n",
    "    \n",
    "    dc.wake_up_articulation(articulation)\n",
    "    right_joint = dc.find_articulation_dof(articulation, \"right_wheel_joint\")\n",
    "    left_joint = dc.find_articulation_dof(articulation, \"left_wheel_joint\")\n"
   ]
  },
  {
   "cell_type": "code",
   "execution_count": 9,
   "id": "60ddc15e",
   "metadata": {},
   "outputs": [
    {
     "data": {
      "application/vnd.jupyter.widget-view+json": {
       "model_id": "6afe4f39db5e46918de657c7d18002c1",
       "version_major": 2,
       "version_minor": 0
      },
      "text/plain": [
       "Image(value=b'\\x89PNG\\r\\n\\x1a\\n\\x00\\x00\\x00\\rIHDR\\x00\\x00\\x05\\x00\\x00\\x00\\x02\\xd0\\x08\\x02\\x00\\x00\\x00@\\x1fJ\\x0…"
      ]
     },
     "metadata": {},
     "output_type": "display_data"
    }
   ],
   "source": [
    " "
   ]
  },
  {
   "cell_type": "code",
   "execution_count": 19,
   "id": "1be582e4",
   "metadata": {},
   "outputs": [
    {
     "name": "stdout",
     "output_type": "stream",
     "text": [
      "Image input size: 720, 1280\n"
     ]
    },
    {
     "data": {
      "application/vnd.jupyter.widget-view+json": {
       "model_id": "8c17c5a5998e4851a49a1aca8c814bab",
       "version_major": 2,
       "version_minor": 0
      },
      "text/plain": [
       "Image(value=b'\\x89PNG\\r\\n\\x1a\\n\\x00\\x00\\x00\\rIHDR\\x00\\x00\\x05\\x00\\x00\\x00\\x02\\xd0\\x08\\x02\\x00\\x00\\x00@\\x1fJ\\x0…"
      ]
     },
     "metadata": {},
     "output_type": "display_data"
    }
   ],
   "source": [
    "import cv2\n",
    "from omni.isaac.synthetic_utils import SyntheticDataHelper\n",
    "import omni.syntheticdata._syntheticdata as gt\n",
    "import matplotlib.pyplot as plt\n",
    "from IPython.display import clear_output\n",
    "from PIL import Image\n",
    "import asyncio\n",
    "import omni\n",
    "import numpy as np\n",
    "import traitlets\n",
    "\n",
    "CLASSES = [\"sphere\"]\n",
    "\n",
    "COLORS = np.random.uniform(0,255,size=(len(CLASSES),3))\n",
    "\n",
    "\n",
    "#Simulation - getting the instance and be able to choose the jetbot camera\n",
    "viewport_handle = viewport.get_instance('Viewport')\n",
    "viewport_window = viewport.get_viewport_window(viewport_handle)\n",
    "jetbot_camera_path = \"/Jetbot/chassis/rgb_camera/jetbot_camera_01\"\n",
    "viewport_window.set_active_camera(jetbot_camera_path)\n",
    "\n",
    "image_trait = widgets.Image(format='png', width=300, height=300)\n",
    "\n",
    "\n",
    "# gt = sd_helper.get_groundtruth([\"rgb\"], viewport_window)\n",
    "# input_image = cv2.cvtColor(gt[\"rgb\"], cv2.COLOR_RGBA2RGB)\n",
    "# _, encoded_image = cv2.imencode('.png', input_image)\n",
    "# bytes_img_obj = encoded_image.tobytes()\n",
    "\n",
    "\n",
    "# Create the DNN net\n",
    "net = cv2.dnn.readNetFromTensorflow('data/fisheye_cam/realtime/frozen_inference_graph.pb', 'data/fisheye_cam/realtime/final_graph.pbtxt')\n",
    "i=0\n",
    "\n",
    "while kit.is_running() and i<50:\n",
    "    kit.update()\n",
    "    clear_output(wait=True) #clearing the jupyter output for updating the plot with a new image\n",
    "    #Simulation - getting the rgb image from the viewport window\n",
    "    gt = sd_helper.get_groundtruth([\"rgb\"], viewport_window)\n",
    "    input_image = cv2.cvtColor(gt[\"rgb\"], cv2.COLOR_RGBA2RGB)\n",
    "    (h,w) = input_image.shape[:2]\n",
    "    print(\"Image input size: \" + str(h) + \", \" + str(w))\n",
    "    blob = cv2.dnn.blobFromImage(image=cv2.resize(input_image,(w,h)), scalefactor=1.0, size=(300,300), swapRB=True)\n",
    "    net.setInput(blob)\n",
    "    detections = net.forward()\n",
    "    for j in np.arange(0, detections.shape[2]):\n",
    "        confidence = detections[0,0,j,2]\n",
    "        if confidence > 0.70:\n",
    "            idx = int(detections[0,0,j,1])\n",
    "            box = detections[0,0,j,3:7] * np.array([w,h,w,h])\n",
    "            (startX, startY, endX, endY) = box.astype(\"int\")\n",
    "            print(\"Id: \" + str(idx))\n",
    "            label = \"{}: {:.2f}%\".format(CLASSES[0], confidence*100)\n",
    "            print(label)\n",
    "            cv2.rectangle(input_image, (startX,startY), (endX,endY), COLORS[0],2)\n",
    "            y = startY - 15 if startY - 15 > 15 else startY + 15\n",
    "            cv2.putText(input_image, label, (startX, y), cv2.FONT_HERSHEY_SIMPLEX, 0.5, COLORS[0],2)\n",
    "            print(\"Detected \" + str(CLASSES[0]) +  \" at X position: \" + str(startX))\n",
    "            #starting x of the detected object on the right side\n",
    "            if startX > w/2:\n",
    "                #apply velocity to the left jetbot's joint\n",
    "                dc.set_dof_velocity_target(left_joint,0.2)\n",
    "                dc.set_dof_velocity_target(right_joint,0)\n",
    "            #starting x on the left side\n",
    "            elif startX < w/2:\n",
    "                #apply velocity to the right jetbot's joint\n",
    "                dc.set_dof_velocity_target(right_joint,0.2)\n",
    "                dc.set_dof_velocity_target(left_joint,0)\n",
    "    \n",
    "    _, encoded_image = cv2.imencode('.png', input_image)\n",
    "    bytes_img_obj = encoded_image.tobytes()\n",
    "    gt_widget = widgets.Image(value=bytes_img_obj, format=\"png\",width=300, height=300)\n",
    "    camera_link = traitlets.dlink((gt_widget,'value'), (image_trait, 'value'))\n",
    "    display(image_trait)\n",
    "#     plt.rcParams[\"figure.figsize\"] = (200,30)\n",
    "#     plt.imshow(input_image)\n",
    "#     plt.show()\n",
    "    i+=1\n",
    "\n"
   ]
  },
  {
   "cell_type": "code",
   "execution_count": null,
   "id": "7ae7246a",
   "metadata": {},
   "outputs": [],
   "source": [
    "omni.timeline.get_timeline_interface().stop()\n",
    "kit.close()"
   ]
  },
  {
   "cell_type": "code",
   "execution_count": null,
   "id": "9585d500",
   "metadata": {},
   "outputs": [],
   "source": []
  }
 ],
 "metadata": {
  "kernelspec": {
   "display_name": "Isaac Sim Python 3",
   "language": "python",
   "name": "isaac_sim_python3"
  },
  "language_info": {
   "codemirror_mode": {
    "name": "ipython",
    "version": 3
   },
   "file_extension": ".py",
   "mimetype": "text/x-python",
   "name": "python",
   "nbconvert_exporter": "python",
   "pygments_lexer": "ipython3",
   "version": "3.7.12"
  }
 },
 "nbformat": 4,
 "nbformat_minor": 5
}
