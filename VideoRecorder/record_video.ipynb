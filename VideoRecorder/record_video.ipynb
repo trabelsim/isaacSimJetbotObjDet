{
 "cells": [
  {
   "cell_type": "markdown",
   "id": "fluid-murder",
   "metadata": {},
   "source": [
    "Connect through SSH to jetbot and run:\n",
    "\n",
    "cd workspace/jetbot/notebooks/objdet_custom/\n",
    "\n",
    "sudo gst-launch-1.0 nvarguscamerasrc num-buffers=400 ! 'video/x-raw(memory:NVMM),width=1280, height=720, framerate=120/1, format=NV12' ! omxh264enc ! qtmux ! filesink location=recordings_10_06/test.mp4 -e\n",
    "\n",
    "to change the duration of the video frame increase/dec the num-buffers\n",
    "\n",
    "To change the brightness and contrast of the image, use the below command:\n",
    "\n",
    "sudo gst-launch-1.0 nvarguscamerasrc num-buffers=2000 ! 'video/x-raw(memory:NVMM),width=1280, height=720, framerate=120/1, format=NV12' ! nvvidconv ! videobalance contrast= brightness= ! nvvidconv ! omxh264enc ! qtmux ! filesink location=test.mp4 -e"
   ]
  },
  {
   "cell_type": "markdown",
   "id": "regulation-wallpaper",
   "metadata": {},
   "source": [
    "gst-inspect-1.0 nvarguscamerasrc\n",
    "\n",
    " tnr-mode            : property to select temporal noise reduction mode\n",
    "                        flags: readable, writable\n",
    "                        Enum \"GstNvArgusCamTNRMode\" Default: 1, \"NoiseReduction_Fast\"\n",
    "                           (0): NoiseReduction_Off - GST_NVCAM_NR_OFF\n",
    "                           (1): NoiseReduction_Fast - GST_NVCAM_NR_FAST\n",
    "                           (2): NoiseReduction_HighQuality - GST_NVCAM_NR_HIGHQUALITY\n",
    "\n",
    "\n",
    "  tnr-strength        : property to adjust temporal noise reduction strength\n",
    "                        flags: readable, writable\n",
    "                        Float. Range:              -1 -               1 Default:              -1\n",
    "\n",
    "\n",
    "sudo gst-launch-1.0 nvarguscamerasrc num-buffers=400 tnr-mode=2 tnr-strength=1 ! 'video/x-raw(memory:NVMM),width=1280, height=720, framerate=120/1, format=NV12' ! omxh264enc ! qtmux ! filesink location=recordings_10_06/test1.mp4 -e\n",
    "\n",
    "\n",
    "gst-inspect-1.0 videobalance\n",
    "\n",
    "                        flags: readable, writable\n",
    "                        String. Default: \"videobalance0\"\n",
    "  parent              : The parent of the object\n",
    "                        flags: readable, writable\n",
    "                        Object of type \"GstObject\"\n",
    "  qos                 : Handle Quality-of-Service events\n",
    "                        flags: readable, writable\n",
    "                        Boolean. Default: true\n",
    "  contrast            : contrast\n",
    "                        flags: readable, writable, controllable\n",
    "                        Double. Range:               0 -               2 Default:               1\n",
    "  brightness          : brightness\n",
    "                        flags: readable, writable, controllable\n",
    "                        Double. Range:              -1 -               1 Default:               0\n",
    "  hue                 : hue\n",
    "                        flags: readable, writable, controllable\n",
    "                        Double. Range:              -1 -               1 Default:               0\n",
    "  saturation          : saturation\n",
    "                        flags: readable, writable, controllable\n",
    "                        Double. Range:               0 -               2 Default:               1\n",
    "\n",
    "Tests:\n",
    "\n",
    "sudo gst-launch-1.0 nvarguscamerasrc num-buffers=400 ! 'video/x-raw(memory:NVMM),width=1280, height=720, framerate=120/1, format=NV12' ! nvvidconv ! videobalance contrast=2 brightness=-0.15 ! nvvidconv ! omxh264enc ! qtmux ! filesink location=recordings_10_06/test2.mp4 -e"
   ]
  },
  {
   "cell_type": "markdown",
   "id": "careful-benefit",
   "metadata": {},
   "source": [
    "### Create gamepad controller\n",
    "\n",
    "The first thing we want to do is create an instance of the ``Controller`` widget, which we'll use to drive our robot.\n",
    "The ``Controller`` widget takes a ``index`` parameter, which specifies the number of the controller.  This is useful in case you\n",
    "have multiple controllers attached, or some gamepads *appear* as multiple controllers.  To determine the index\n",
    "of the controller you're using,\n",
    "\n",
    "1. Visit [http://html5gamepad.com](http://html5gamepad.com).  \n",
    "2. Press buttons on the gamepad you're using\n",
    "3. Remember the ``index`` of the gamepad that is responding to the button presses\n",
    "\n",
    "Next, we'll create and display our controller using that index."
   ]
  },
  {
   "cell_type": "code",
   "execution_count": 1,
   "id": "accurate-bridge",
   "metadata": {},
   "outputs": [
    {
     "data": {
      "application/vnd.jupyter.widget-view+json": {
       "model_id": "5dde54d77fbd4f1f93ec1bed62599d1b",
       "version_major": 2,
       "version_minor": 0
      },
      "text/plain": [
       "Controller()"
      ]
     },
     "metadata": {},
     "output_type": "display_data"
    }
   ],
   "source": [
    "import ipywidgets.widgets as widgets\n",
    "\n",
    "controller = widgets.Controller(index=0)  # replace with index of your controller\n",
    "\n",
    "display(controller)"
   ]
  },
  {
   "cell_type": "markdown",
   "id": "muslim-miniature",
   "metadata": {},
   "source": [
    "Even if the index is correct, you may see the text ``Connect gamepad and press any button``.  That's because the gamepad hasn't\n",
    "registered with this notebook yet.  Press a button and you should see the gamepad widget appear above."
   ]
  },
  {
   "cell_type": "markdown",
   "id": "expressed-programming",
   "metadata": {},
   "source": [
    "### Connect gamepad controller to robot motors\n",
    "\n",
    "Now, even though we've connected our gamepad, we haven't yet attached the controls to our robot!  The first, and most simple control\n",
    "we want to attach is the motor control.  We'll connect that to the left and right vertical axes using the ``dlink`` function.  The\n",
    "``dlink`` function, unlike the ``link`` function, allows us to attach a transform between the ``source`` and ``target``.  Because\n",
    "the controller axes are flipped from what we think is intuitive for the motor control, we'll use a small *lambda* function to\n",
    "negate the value.\n",
    "\n",
    "> WARNING: This next cell will move the robot if you touch the gamepad controller axes!"
   ]
  },
  {
   "cell_type": "code",
   "execution_count": 4,
   "id": "satisfied-spyware",
   "metadata": {},
   "outputs": [],
   "source": [
    "from jetbot import Robot\n",
    "import traitlets\n",
    "\n",
    "robot = Robot()\n",
    "\n",
    "left_link = traitlets.dlink((controller.axes[1], 'value'), (robot.left_motor, 'value'), transform=lambda x: -0.2*x)\n",
    "right_link = traitlets.dlink((controller.axes[3], 'value'), (robot.right_motor, 'value'), transform=lambda x: -0.2*x)"
   ]
  },
  {
   "cell_type": "code",
   "execution_count": null,
   "id": "unauthorized-protein",
   "metadata": {},
   "outputs": [],
   "source": []
  }
 ],
 "metadata": {
  "kernelspec": {
   "display_name": "Python 3",
   "language": "python",
   "name": "python3"
  },
  "language_info": {
   "codemirror_mode": {
    "name": "ipython",
    "version": 3
   },
   "file_extension": ".py",
   "mimetype": "text/x-python",
   "name": "python",
   "nbconvert_exporter": "python",
   "pygments_lexer": "ipython3",
   "version": "3.6.9"
  }
 },
 "nbformat": 4,
 "nbformat_minor": 5
}
